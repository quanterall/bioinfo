{
 "cells": [
  {
   "cell_type": "markdown",
   "metadata": {},
   "source": [
    "<img src=\"images/DNA.png\" alt=\"DNA icon\" width=\"50\" height=\"50\"> \n",
    "\n",
    "# DNA sequences\n",
    "\n",
    "Welcome to the first tutorial for this week's project! \n",
    "Here we will cover the basics that you need in order to do computational genomics:\n",
    "\n",
    "- What is the structure of DNA?\n",
    "- How are DNA sequences encoded?\n",
    "- How to find, download and read DNA sequences using Unix shell commands?\n",
    "\n",
    "You might be familiar with some of these things already (or not), so feel free to move at your own pace. To make sure you understand what's going on, there are questions that you need to complete throughout this document. Just write your answer in the dedicated markdown and code cells. So, let's get started!\n",
    "\n"
   ]
  },
  {
   "cell_type": "markdown",
   "metadata": {},
   "source": [
    "## DNA structure\n",
    "\n",
    "DNA (deoxyribonucleic acid) is a very long molecule, composed of individual repeating units. One unit (**nucleotide**) consist of 3 components – a sugar (deoxyribose), a phosphate group and a nucleobase. There are 4 bases in DNA: adenine (A), thymine (T), cytosine (C) and guanine (G).\n",
    "\n",
    "<a href=\"https://sciencenotes.org/what-are-the-three-parts-of-a-nucleotide/\"><img src=\"images/nucleotide.png\" alt=\"Nucleotide parts\" width=\"400\" align=\"left\"></a>\n",
    "<a href=\"https://theory.labster.com/dna-structure/\"><img src=\"images/dna-helix.png\" alt=\"DNA helix\" width=\"400\" align=\"center\"></a>\n",
    "\n",
    "Nucleotides bind to each other through their phosphate groups and sugars to form a chain (**strand**). The DNA strand is always generated in the same direction – starting with a nucleotide with an unmodified phosphate group at the 5<sup>th</sup> carbon atom of its sugar, which is referred to as **5’ (five prime) end** of the strand, and ending with a nucleotide with an unmodified hydroxyl group (OH) at the 3<sup>rd</sup> carbon atom of its sugar, which is referred to as **3’ (three prime) end** of the strand. During replication of one chain, another one is generated, through successive binding of nucleotides with **complementary** bases (A always binds with T and G with C), forming **base pairs**. A succesion of nucleotides is called nucleotide **sequence** and its **complement** is the sequence of complementary bases. For example, the complement of *ATG* is *TAC* and the formed base pairs are A-T, T-A and G-C. You can watch a video about DNA structure <a href=\"https://www.youtube.com/watch?v=o_-6JXLYS-k\" target=\"_blank\">here</a>.\n",
    "\n"
   ]
  },
  {
   "cell_type": "markdown",
   "metadata": {},
   "source": [
    "## DNA sequences code\n",
    "\n",
    "In many cases, the sequences you come across will only contain one letter codes for the 4 nucleobases (A, T, G or C). However, these are not the only letters used in the description of DNA sequences. Below is the full summary of the International Union of Pure and Applied Chemistry (IUPAC) nomenclature for DNA nucleotide codes:\n",
    "\n",
    "<a href=\"https://www.researchgate.net/figure/IUPAC-nomenclature-for-nucleic-acids_tbl1_6537337\"><img src=\"images/dna-nucleotide-code.png\" alt=\"DNA code\" width=\"400\" align=\"center\"></a>\n",
    "\n",
    "What is the complement of *ATGGAC*? What about *ABHCDV* and *MKSRYV*? Write your answers in the markdown cell below. "
   ]
  },
  {
   "cell_type": "markdown",
   "metadata": {},
   "source": [
    "**Sequence:** ATGGAC <br>\n",
    "**Complement:** ... <br>\n",
    "\n",
    "**Sequence:** ABHCDV <br>\n",
    "**Complement:** ... <br>\n",
    "\n",
    "**Sequence:** MKSRYW <br>\n",
    "**Complement:** ... <br>"
   ]
  },
  {
   "cell_type": "markdown",
   "metadata": {},
   "source": [
    "## DNA sequences data\n",
    "\n",
    "DNA sequences can be stored in a format called **FASTA** (pronounced fast-aye) format. Multiple sequences can be described in one FASTA file. Each entry consists of a header, which provides information about an individual sequence like ID, organism of origin, etc., and the sequence itself.\n",
    "\n",
    "<a href=\"https://www.mdpi.com/2078-2489/7/4/5637\"><img src=\"images/fasta.png\" alt=\"FASTA\" width=\"600\" align=\"center\"></a>\n",
    "\n",
    "Now you are going to download a DNA sequence in FASTA format and read from the FASTA file. You are going to obtain DNA sequence data from the Nucleotide database of the <a href=\"https://www.ncbi.nlm.nih.gov/\">National Center for Biotechnology Information (NCBI)</a> of US. This database stores data submitted by researchers from all around the world and exchanges information with the <a href=\"https://www.ebi.ac.uk/ena/browser/home\">European Nucleutide Archive (ENA)</a> and the <a href=\"https://www.ddbj.nig.ac.jp/index-e.html\">DNA DataBank of Japan (DDBJ)</a>.To download your data you are going to use NCBI's Entrez query and database system and its programming utilities (E-utilities). They are available through the <code>ncbi-entrez-direct</code> package that has been pre-installed for you on this system.\n",
    "\n",
    "Let's try and find some SARS-CoV-2 sequences. Query the NCBI database using the <code>esearch</code> command. To execute your command run the Bash script below.\n"
   ]
  },
  {
   "cell_type": "code",
   "execution_count": null,
   "metadata": {},
   "outputs": [],
   "source": [
    "%%bash\n",
    "esearch -db nucleotide -query \"SARS-CoV-2\""
   ]
  },
  {
   "cell_type": "markdown",
   "metadata": {},
   "source": [
    "Can you see the number of entries your query returned? That's a lot! You can have a look through your browser as well. Just go to the <a href=\"https://www.ncbi.nlm.nih.gov/nuccore/\">Nucleotide database</a> and use the search box. Let's see, if you can narrow the number of results a bit. Try to find the reference genome which represents the virus originally isolated in Wuhan, China. The browser might have highlighted exactly this entry in your search results, but let's try to find it using commands. Reference sequences are stored in the RefSeq database (subdatabase of Nucleotide). You can filter your query using the <code>efilter</code> comand and the filter <code>-source</code>."
   ]
  },
  {
   "cell_type": "code",
   "execution_count": null,
   "metadata": {},
   "outputs": [],
   "source": [
    "%%bash\n",
    "esearch -db nucleotide -query \"SARS-CoV-2\" | efilter -source refseq"
   ]
  },
  {
   "cell_type": "markdown",
   "metadata": {},
   "source": [
    "What do you think? Still too many results. Try to narrow it down further using a combination of additional filters, such as <code>-country</code>, <code>-organism</code> or any other filter. Use <code>efilter -help</code> to see options. You can open a new Terminal, if that's easier, and test it out there as well.<br>\n",
    "Once you have narrowed count down to 1, download the sequence using the <code>efetch</code> command. Store it in a FASTA file and name the file whatever you want (something like *sars-cov-2-rg.fasta* could be appropriate). You can store multiple sequences in a single file as well, but in this case it is possible to narrow them down to one."
   ]
  },
  {
   "cell_type": "code",
   "execution_count": null,
   "metadata": {},
   "outputs": [],
   "source": [
    "%%bash\n",
    "esearch -db nucleotide -query \"SARS-CoV-2\" | efilter <your filters> | efetch -format fasta > <filename>.fasta"
   ]
  },
  {
   "cell_type": "markdown",
   "metadata": {},
   "source": [
    "Now check to see what you've got. Print out the first 2 lines of your file. What does the header show?"
   ]
  },
  {
   "cell_type": "code",
   "execution_count": null,
   "metadata": {},
   "outputs": [],
   "source": [
    "%%bash\n",
    "cat <filename>.fasta | head -n 2"
   ]
  },
  {
   "cell_type": "markdown",
   "metadata": {},
   "source": [
    "If you see the reference *NC_045512.2*, congratulations! You just completed your first tutorial. Now go and learn more about viral genomes in T2."
   ]
  }
 ],
 "metadata": {
  "kernelspec": {
   "display_name": "Python 3",
   "language": "python",
   "name": "python3"
  },
  "language_info": {
   "codemirror_mode": {
    "name": "ipython",
    "version": 3
   },
   "file_extension": ".py",
   "mimetype": "text/x-python",
   "name": "python",
   "nbconvert_exporter": "python",
   "pygments_lexer": "ipython3",
   "version": "3.8.10"
  }
 },
 "nbformat": 4,
 "nbformat_minor": 5
}
