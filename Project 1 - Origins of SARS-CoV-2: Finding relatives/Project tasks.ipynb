{
 "cells": [
  {
   "cell_type": "markdown",
   "metadata": {},
   "source": [
    "# Project tasks\n",
    "\n",
    "Check boxes with an x ([x]) in editing mode and then run the cells."
   ]
  },
  {
   "cell_type": "markdown",
   "metadata": {},
   "source": [
    "## To complete\n",
    "\n",
    "1. [ ] T1 - DNA sequences\n",
    "2. [ ] T2 - Viral genomes\n",
    "3. [ ] T3 - Sequence alignment\n",
    "4. [ ] T4 - Building workflow\n",
    "5. [ ] Project report"
   ]
  },
  {
   "cell_type": "markdown",
   "metadata": {},
   "source": [
    "## Learning outcomes\n",
    "\n",
    "- [ ] Understand how the structure of DNA is encoded\n",
    "* [ ] Read nucleotide sequences in FASTA format\n",
    "* Search for sequences and fetch them using Entrez tools with \n",
    "    * [ ] Unix shell commands\n",
    "    * [ ] Python\n",
    "* [ ] Read from and write to FASTA files using Biopython\n",
    "* [ ] Understand what it means for DNA sequences to be homologous\n",
    "* [ ] Understand how aligned sequences can be represented\n",
    "* Implement algorithms for pairwise sequence alignment\n",
    "    * [ ] Understand why alignments are scored\n",
    "    * [ ] Write scoring function\n",
    "    * [ ] Understand the principles of dynamic programming\n",
    "    * [ ] Implement Needleman-Wunsh algorithm for global alignment of sequences\n",
    "    * [ ] Understand the meaning and use of expected value\n",
    "* [ ] Compare sequences using tools for pairwise sequence alignment\n",
    "* [ ] Build a workflow for data analysis using Snakemake\n",
    "\n"
   ]
  }
 ],
 "metadata": {
  "kernelspec": {
   "display_name": "Python 3",
   "language": "python",
   "name": "python3"
  },
  "language_info": {
   "codemirror_mode": {
    "name": "ipython",
    "version": 3
   },
   "file_extension": ".py",
   "mimetype": "text/x-python",
   "name": "python",
   "nbconvert_exporter": "python",
   "pygments_lexer": "ipython3",
   "version": "3.8.10"
  }
 },
 "nbformat": 4,
 "nbformat_minor": 4
}
