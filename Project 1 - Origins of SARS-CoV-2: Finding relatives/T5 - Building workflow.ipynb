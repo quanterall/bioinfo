{
 "cells": [
  {
   "cell_type": "markdown",
   "metadata": {},
   "source": [
    "# T5 - Building workflow\n",
    "\n",
    "Welcome to the last tutorial for this project! You learned how to align DNA sequences and interpret the results. Now it's time to put it all together and make it easy. When you perform data analysis, you often need to specify what data you are using. And the next time you perform the same analysis you have to go through the same steps with a different dataset. If you have to do it manually, this is not very efficient and might create problems with reproducibility. For these reasons, it will be useful to define a workflow. In this tutorial you will learn how to generate a workflow using <a href=\"https://snakemake.readthedocs.io/en/stable/\"> Snakemake </a>. Watch this <a href=\"https://www.youtube.com/watch?v=UOKxta3061g\">video</a> to get excited about it! Now, let's get started!"
   ]
  },
  {
   "cell_type": "markdown",
   "metadata": {},
   "source": [
    "## 1. Define your goal\n",
    "\n",
    "First step of generating a workflow is to decide what you want to do. In this case, we are going to perform alignment of several viral genomes to the SARS-CoV-2 reference genome.  "
   ]
  },
  {
   "cell_type": "markdown",
   "metadata": {},
   "source": [
    "## 2. Organize your data\n",
    "\n",
    "Then you have to organize your directory, so you know where everything is.\n",
    "\n",
    "1. Create directories named \"data\", \"workflow\" and \"results\". You can do it from command line or from the menu New -> Folder.\n",
    "2. Move the FASTA file containing your SARS-CoV-2 reference genome and the FASTA file containing your other viral genomes to the data directory."
   ]
  },
  {
   "cell_type": "markdown",
   "metadata": {},
   "source": [
    "## 3. Perform your analysis\n",
    "\n",
    "You need to go through your analysis at least once, so you know exactly what steps you need to perform. In this case our analysis consists of a single step. We are going to use <code>blastn</code> from the command line to align your sequences and generate similarity statistics. The results will be saved in a file in our results folder. Run the command below. "
   ]
  },
  {
   "cell_type": "code",
   "execution_count": null,
   "metadata": {},
   "outputs": [],
   "source": [
    "%%bash\n",
    "blastn -query data/<filename>.fasta -subject data/<filename>.fasta -out results/test"
   ]
  },
  {
   "cell_type": "markdown",
   "metadata": {},
   "source": [
    "Now check your results directory and see if you have your test file in there. What does the report show? Do you see info about all 7 alignments?"
   ]
  },
  {
   "cell_type": "markdown",
   "metadata": {},
   "source": [
    "## 4. Create your workflow \n",
    "\n",
    "1. Watch this <a href=\"https://youtu.be/NNPBDOBHlxo\">demonstration</a> of how Snakemake can be used.\n",
    "2. Create a file called \"Snakefile\" in the workflow directory.\n",
    "3. Write a rule in your Snakefile that uses the <code>blastn</code> command above with any given subject file as an input and saves the results to a file with prefix \"aligned-\" and the name of the subject file. Refer to <a href=\"https://snakemake.readthedocs.io/en/stable/tutorial/basics.html\">this page </a> in the Snakemake documentation to figure out how to write your rule."
   ]
  },
  {
   "cell_type": "markdown",
   "metadata": {},
   "source": [
    "## 5. Run your workflow"
   ]
  },
  {
   "cell_type": "code",
   "execution_count": null,
   "metadata": {},
   "outputs": [],
   "source": [
    "%%bash\n",
    "snakemake results/aligned-vgens"
   ]
  },
  {
   "cell_type": "markdown",
   "metadata": {},
   "source": [
    "If your log says \"Finished job 0\", then you should be able to find the file aligned-vgens in your results directory. Otherwise, you might need to edit your Snakefile. Keep trying until you make it. We will be building more complex workflows in the future. \n",
    "\n",
    "Show the content of your Snakefile in this notebook by running the cell below and save it with the output."
   ]
  },
  {
   "cell_type": "code",
   "execution_count": null,
   "metadata": {},
   "outputs": [],
   "source": [
    "%%bash\n",
    "cat workflow/Snakefile"
   ]
  },
  {
   "cell_type": "markdown",
   "metadata": {},
   "source": [
    "Hope you enjoyed this week's project! Please, fill out the <a href=\"https://forms.gle/2wG3idWFagSVVNGUA\">Project report</a> and that's all for now. In the next project we'll be building a family tree to see how our viral genomes are related. :)"
   ]
  },
  {
   "cell_type": "code",
   "execution_count": null,
   "metadata": {},
   "outputs": [],
   "source": []
  }
 ],
 "metadata": {
  "kernelspec": {
   "display_name": "Python 3",
   "language": "python",
   "name": "python3"
  },
  "language_info": {
   "codemirror_mode": {
    "name": "ipython",
    "version": 3
   },
   "file_extension": ".py",
   "mimetype": "text/x-python",
   "name": "python",
   "nbconvert_exporter": "python",
   "pygments_lexer": "ipython3",
   "version": "3.8.10"
  }
 },
 "nbformat": 4,
 "nbformat_minor": 4
}
