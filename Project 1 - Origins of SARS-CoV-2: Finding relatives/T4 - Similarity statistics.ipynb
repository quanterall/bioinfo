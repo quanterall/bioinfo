{
 "cells": [
  {
   "cell_type": "markdown",
   "metadata": {},
   "source": [
    "# Similarity statistics\n",
    "\n",
    "You have aligned your genomic sequences and calculated their similarity score, so you can tell that the viruses have something in common. However, this is not sufficient to determine, if they are related. You need to consider whether this similarity could be just due to random chance. If it turns out that it's extremely unlikely for two sequences to be as similar as the ones that you are comparing, then you can be more certain that it's due to biological reasons. There are tools that will do the statistical analysis for you. Still, you need to understand what they do, in order to able to interpret the data. \n",
    "\n",
    "In this tutorial, you will learn how to:\n",
    "- Compare sequences using BLAST (Basic Local Alignment Search Tool)\n",
    "- Interpret statistical evidence"
   ]
  },
  {
   "cell_type": "markdown",
   "metadata": {},
   "source": [
    "## BLAST (Basic Local Alignment Search Tool)\n",
    "\n",
    "This is NCBI's alignment tool that allows comparison of sequences within its databases. It aligns one sequence (**query**) to one or multiple others (**target** sequences). Beside the alignment of sequnces, BLAST also evaluates their similarity using several metrics - **maximum similarity score**, **total score**, **E-value**, **percent identity** and **query coverage**."
   ]
  },
  {
   "cell_type": "markdown",
   "metadata": {},
   "source": [
    "### Similarity scores - max & total\n",
    "\n",
    "BLAST performs local alignment, so it generates aligned regions of the sequences. These regions are called High-scoring segment pairs (HSPs). Their scores cannot be improved by introducing more gaps, so they are considered optimal. The **maximum similarity score** is the score of the highest-scoring HSP. The **total score** is the sum of scores of all HSPs. But how do we know, if those scores are significant and if they are biologically relevant?"
   ]
  },
  {
   "cell_type": "markdown",
   "metadata": {},
   "source": [
    "### Significance of observations - E-value\n",
    "\n",
    "When we make a single observation about an event in the real world, we cannot determine whether it occured by chance or because of some law of nature. We need multiple observations.\n",
    "\n",
    "Let's say you went to Sunny Beach at some point in July 2020 around midday. And you saw 10 people on the central beach. Is that the number of people you would usually expect to see at this time of the year? You go the next day and there's about 20 people. Next one ~ 60. On the fourth day there's just 5 people. You decide to count the number of days on which there's less than 50 people on the beach. It's 29 out of 31 days. Turns out your mom used to go there every year in July for the past 10 years and do the same thing - count the number of days with less than 50 people on the beach around lunchtime. Don't ask why, just accept that's what she did. Her observations are recorded in the table below:\n",
    "\n",
    "<img src=\"images/stat-tables.png\" alt=\"Expected value example data\" width=\"800\" align=\"center\">\n",
    "\n",
    "From this data, you can calculate the expected number of days in July you'd expect to see less than 50 people on the beach at this time of the year around this time of the day like:\n",
    "\n",
    "<code> expected_num_days = 0x(1/10) + 1x(3/10) + 2x(4/10) + 4x(1/10) + 5x(1/10) = 2 days </code>\n",
    "\n",
    "This is called <a href=\"https://en.wikipedia.org/wiki/Expected_value\">expected value</a>:\n",
    "\n",
    "<code> expected_value = value_1 x probability_1 + value_2 x probability_2 + ... </code>\n",
    "\n",
    "You would expect to have less than 50 people around lunchtime on this beach for only about 2 days in July. And you recorded 29 days like this in 2020. This suggests that there might be a reason for the observation. Based on your data, it seems very likely that something was different that year and affected the ability or willingness of people to go to the beach in July.\n",
    "\n",
    "What does that have to do with similarity scores? BLAST calculates a metric for your alignment called **E-value** which is the **expected number of sequences** which produce alignments with the query sequence with **equal or higher similarity score**. If this value is very close to **0**, which it can be when compared against very large databases, this means that there are **almost no sequences that are as similar or more similar** to the query sequence as is your target sequence. Therefore, it is much more likely that the similarity occured due to biological reasons, rather than by chance."
   ]
  },
  {
   "cell_type": "markdown",
   "metadata": {},
   "source": [
    "### Identity percentage\n",
    "\n",
    "Identity percentage indicates the proportion of **matches within the aligned parts** of the sequences. \n",
    "\n",
    "For example, in the alignment below the identity percentage is 80%:\n",
    "\n",
    "**ATC**A**T** <br>\n",
    "**ATC**T**T** <br>"
   ]
  },
  {
   "cell_type": "markdown",
   "metadata": {},
   "source": [
    "### Query coverage\n",
    "\n",
    "Query coverage is the **proportion of the target sequence that has been aligned to the query sequence**. \n",
    "\n",
    "For example, if your target sequence is 100 nucleotides long, but only 60 of them have been aligned to the query sequence, that's 60% query coverage. Notice how this is different from identity percentage. Maybe within this alignment there are 30 matches. In this case, the percent identity is (30/60)x100 = 50%. If all 60 aligned nucleotides were matching the corresponding nucleotides in the query sequence, then that would be 100% identity, but still 60% query coverage."
   ]
  },
  {
   "cell_type": "markdown",
   "metadata": {},
   "source": [
    "If you want to learn more about the statistics that BLAST applies in similarity analysis check this <a href=\"https://www.ncbi.nlm.nih.gov/BLAST/tutorial/Altschul-1.html\">page</a>. **Warning**: it's VERY technical. But it's useful."
   ]
  },
  {
   "cell_type": "markdown",
   "metadata": {},
   "source": [
    "### Using BLAST\n",
    "\n",
    "All the described metrics in combination can be used to determine if your sequences are extraordinarily similar. Let's see how this process looks like in practice.\n",
    "\n",
    "Go to the BLAST webpage and use Nucleotide BLAST (blastn) to compare your sequences.\n",
    "\n",
    "1. Copy your reference sequence ID from your reference genome file and paste it in the query box.\n",
    "2. Check the \"Align two or more sequences\" box.\n",
    "3. Copy your target sequences IDs from *vgens-id.txt* file. and paste them in the subject box.\n",
    "4. Select to optimize for somewhat similar sequences (blastn).\n",
    "5. BLAST. It may take a few minutes to get your results.\n",
    "\n",
    "To learn how to interpret your results, download the *blastn.mp4* video from the *videos* folder in your directory and play it on your computer."
   ]
  },
  {
   "cell_type": "markdown",
   "metadata": {},
   "source": [
    "Hope you enjoyed the process of comparing sequences to determine how similar they are and how likely it is for similarity this high to occur. This type of analysis is fundamental for finding biological relationships between organisms at the genomic level. However, it is important to remember that statistical methods never give you a definite answer to real life questions. They work with probabilities. At the end of the day, the biologists and bioinformaticians have to consider all the available evidence and decide how to formulate their questions to get good answers. Computational tools are there only to do the math. Now, let's build a workflow for our data analysis process: T5 - Building workflow. "
   ]
  }
 ],
 "metadata": {
  "kernelspec": {
   "display_name": "Python 3",
   "language": "python",
   "name": "python3"
  },
  "language_info": {
   "codemirror_mode": {
    "name": "ipython",
    "version": 3
   },
   "file_extension": ".py",
   "mimetype": "text/x-python",
   "name": "python",
   "nbconvert_exporter": "python",
   "pygments_lexer": "ipython3",
   "version": "3.8.10"
  }
 },
 "nbformat": 4,
 "nbformat_minor": 4
}
