{
 "cells": [
  {
   "cell_type": "markdown",
   "metadata": {},
   "source": [
    "# Viral genomes\n",
    "\n",
    "In this tutorial you are going to learn:\n",
    "\n",
    "- What do viruses look like and what is specific about their genomes?\n",
    "- How to process sequence data using Python?\n",
    "\n",
    "## Anatomy of viruses\n",
    "\n",
    "The genome of an organism is the complete genetic code of this organism. In cellular organisms it is stored in one or multiple DNA molecules. However, in viruses it could be in either DNA (single stranded; ssDNA or double stranded; dsDNA) or RNA (single stranded ribonucleic acid; ssRNA) molecule. There are > 100 families of viruses desribed to date and they vary in their structures. In the diagram below you can see the general components of a virus and examples of different types.\n",
    "\n",
    "<a href=\"https://biocyclopedia.com/index/medicinal_microbiology/virus_structure_classification_and_antiviral_therapy.php\"><img src=\"images/viruses.jpg\" alt=\"Viruses\" width=\"800\" align=\"center\"></a>\n",
    "\n",
    "SARS-CoV-2 is an RNA virus, so why did we find its genome as a DNA sequence? Many biotechnological methods for sequencing or \"reading\" the sequence from a molecule work with DNA and not RNA directly. That is why usually RNA has to be converted to complementary DNA (cDNA) before being sequenced.Therefore, what you analyse is actually the DNA complement of the original RNA genomic sequence. There are some relatively recent technologies that allow the direct \"native\" sequencing of RNA, but they are not that common at this stage.\n",
    "    \n",
    "Structurally, RNA nucleotides are very similar to DNA nucleotides. There is a small difference in the sugar (ribose) component of an RNA nucleotide, as well as one base that differs between RNA and DNA. The equivalent to DNA base thymine (T) is uracil (U).\n",
    "    \n",
    "<a href=\"https://www.thoughtco.com/dna-versus-rna-608191\"><img src=\"images/dna-rna.png\" alt=\"DNA-RNA\" width=\"600\" align=\"center\"></a>\n",
    "    \n",
    "Edit the Python script below, so that when given cDNA sequence it outputs the original RNA sequence. Remember that cDNA is the complement of the RNA sequence! If you haven't used the <a href=\"https://python-reference.readthedocs.io/en/latest/docs/str/translate.html\"><code>translate</code></a> function before, read about it."
   ]
  },
  {
   "cell_type": "code",
   "execution_count": null,
   "metadata": {},
   "outputs": [],
   "source": [
    "DNA_code = \"ATGC\"\n",
    "RNA_code = \"\"\n",
    "\n",
    "print(\"cDNA sequence:\")\n",
    "cDNA_seq = input()\n",
    "trans_table = cDNA_seq.maketrans(DNA_code,RNA_code)\n",
    "seq = cDNA_seq.translate(trans_table)\n",
    "print(\"RNA sequence:\",seq)\n"
   ]
  },
  {
   "cell_type": "markdown",
   "metadata": {},
   "source": [
    "Now, let's try and convert the sequence from the FASTA file containing SARS-CoV-2 reference genome that you fetched in your last tutorial to complementary RNA sequence. For this purpose, we are going to use <a href=\"https://biopython.org/\">Biopython</a> which has been installed for you on this system. Edit the script below."
   ]
  },
  {
   "cell_type": "code",
   "execution_count": null,
   "metadata": {},
   "outputs": [],
   "source": [
    "from Bio import SeqIO\n",
    "\n",
    "data = SeqIO.read(\"<filename>.fasta\", \"fasta\")\n",
    "\n",
    "#print(data)\n",
    "#print(data.id)\n",
    "#print(data.seq)\n",
    "#print(type(data.seq))\n",
    "\n",
    "sequence = str(data.seq)\n",
    "#print(type(sequence))\n",
    "\n",
    "#def RNA_convert(cDNA):\n",
    "#    ...\n",
    "#    return seq\n",
    "\n",
    "#print(RNA_convert(sequence))"
   ]
  },
  {
   "cell_type": "markdown",
   "metadata": {},
   "source": [
    "UGA! UGA! Now that you are done with your RNA conversion, let's go fetch some more viral genomes. There are certain viruses that are likely to be related to SARS-CoV-2, according to various publications from the scientific literature. There's a table of references from the <a href=\"https://www.ncbi.nlm.nih.gov/genbank/\">GenBank</a> database (another subdatabase of Nucleotide) for the genomic sequences of some of those viruses, as well as additional info, in the file *vgen-list.csv*. Check it out using <a href=\"https://pandas.pydata.org/\">pandas</a>."
   ]
  },
  {
   "cell_type": "code",
   "execution_count": null,
   "metadata": {},
   "outputs": [],
   "source": [
    "import pandas as pd\n",
    "dataframe = pd.read_csv(\"<filename>.csv\")\n",
    "dataframe"
   ]
  },
  {
   "cell_type": "markdown",
   "metadata": {},
   "source": [
    "Let's fetch them all using Entrez tools from Biopython. If you've run your previous cell, you don't need to import the same libraries and define the same variables again. It's all in the same session, so just continue with the new commands."
   ]
  },
  {
   "cell_type": "markdown",
   "metadata": {},
   "source": [
    "When using E-utilities, you are asked to provide an e-mail address. Why and is this necessary? It can be used to warn you, if you violate NCBI's policies and risk having access restrictions imposed for your IP address. You can read more about that in the Usage Guidelines and Requirements section <a href=\"https://www.ncbi.nlm.nih.gov/books/NBK25497/\">here</a>."
   ]
  },
  {
   "cell_type": "code",
   "execution_count": null,
   "metadata": {},
   "outputs": [],
   "source": [
    "from Bio import Entrez\n",
    "\n",
    "Entrez.email = \"me@example.com\""
   ]
  },
  {
   "cell_type": "markdown",
   "metadata": {},
   "source": [
    "To get a list of the references, you can simply convert the column with header \"Reference\" to a list and give it to the <a href=\"https://biopython.org/docs/1.76/api/Bio.Entrez.html\"><code>efetch</code></a> function. We are looking into the Nucleotide database, so the <code>db</code> value should be \"nucleotide\" or \"nuccore\". Fetch the records in FASTA text format. In this <a href=\"https://www.ncbi.nlm.nih.gov/books/NBK25499/table/chapter4.T._valid_values_of__retmode_and/\">table</a> you can see the possible values for <code>rettype</code> and <code>retmode</code> parameters. Set them in the script below. Check the records' IDs to make sure that you've got what you wanted. Then, write the full records to a file called *vgens.fasta*. Use <a href=\"https://biopython.org/wiki/SeqIO\">SeqIO</a> to iterate through the records and to write them to the file. Some useful examples can be found in the <a href=\"http://biopython.org/DIST/docs/tutorial/Tutorial.html\">Biopython Tutorial and Cookbook</a>."
   ]
  },
  {
   "cell_type": "code",
   "execution_count": null,
   "metadata": {},
   "outputs": [],
   "source": [
    "id_list = dataframe[\"Reference\"].tolist()\n",
    "\n",
    "output_file = \"vgens.fasta\"\n",
    "#output_file_id = \"vgens-id.txt\"\n",
    "\n",
    "handle = Entrez.efetch(db=\"...\",id=id_list,rettype=\"...\",retmode=\"...\")\n",
    "\n",
    "records = SeqIO.parse(handle,\"fasta\")\n",
    "#   print(record.id)\n",
    "#   print(record.description)\n",
    "#   print(record.seq)\n",
    "\n",
    "#with open(output_file, \"w\") as output_handle:\n",
    "#    count = SeqIO.write(records, output_handle, \"fasta\")\n",
    "#    print(\"Number of records written:\",count)\n",
    "#output_handle.close()\n",
    "\n",
    "handle.close()"
   ]
  },
  {
   "cell_type": "markdown",
   "metadata": {},
   "source": [
    "Great! Now you've got a file full of viral genomic sequences waiting to be aligned. Edit your script, so that you save only the IDs of records in a separate file *vgens-id.txt*. Write each ID on a new line. You are going to need them later. Coming up next: T3 - Sequence alignment."
   ]
  }
 ],
 "metadata": {
  "kernelspec": {
   "display_name": "Python 3",
   "language": "python",
   "name": "python3"
  },
  "language_info": {
   "codemirror_mode": {
    "name": "ipython",
    "version": 3
   },
   "file_extension": ".py",
   "mimetype": "text/x-python",
   "name": "python",
   "nbconvert_exporter": "python",
   "pygments_lexer": "ipython3",
   "version": "3.8.10"
  }
 },
 "nbformat": 4,
 "nbformat_minor": 4
}
