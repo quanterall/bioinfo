{
 "cells": [
  {
   "cell_type": "markdown",
   "metadata": {},
   "source": [
    "# Multiple sequence alignment (MSA)\n",
    "\n",
    "First step in many methods for genomic relatedness determination is to perform multiple alignment of the sequences. Let's say we have the sequences *ATGCGT, ATTTCTGT, ATGCGGT, TTTTGGT* and *GTGGGT*. One possible alignment would be:\n",
    "\n",
    "<img src=\"images/msa-ex.png\" alt=\"multiple sequence alignment example\" width=\"100\" align=\"center\">\n",
    "\n",
    "But how can we evaluate whether this alignment is good for determining similarity between the sequences? Are there any better ones? How do we work with multiple sequences at once?"
   ]
  },
  {
   "cell_type": "markdown",
   "metadata": {},
   "source": [
    "## Alignment representation - matrix\n",
    "\n",
    "**Multiple alignment of K sequences with maximum length N can be represented as a KxN matrix** (K rows and N columns). For the proposed alignment of our sequences (K=5, N=8) it will look like this:\n",
    "\n",
    "<img src=\"images/msa-mat.png\" alt=\"multiple sequence alignment matrix\" width=\"300\" align=\"center\">\n",
    "\n",
    "How could we score this matrix? \n",
    "\n",
    "Notice that one column corresponds to 1 nucleotide. Therefore, the score (S) for the whole matrix would be the sum of scores (s) for individual columns. \n",
    "\n",
    "<code> mat_score = col_score[0] + col_score[1] + .. + col_score[N-1] </code>\n",
    "\n",
    "Mathematically, this can be expressed like:\n",
    "\n",
    "$$\n",
    "S(matrix) = \\sum_{i=1}^{N} s( C_i ) = s( C_0 ) + s( C_1 ) + ... s( C_N )\n",
    "$$\n",
    "\n",
    "\n",
    "But how can we calculate the score of a single column?"
   ]
  },
  {
   "cell_type": "markdown",
   "metadata": {},
   "source": [
    "## Sum of pairs (SP) scoring\n",
    "\n",
    "The score for a column can be calculated as the sum of scores for all pairs within the column. We are going to score all the \n",
    "$$ {K \\choose 2} = \\frac{K*(K-1)}{2} = \\frac{5*4}{2} = 10 $$ pairs: $$(R_0,R_1),(R_0,R_2),(R_0,R_3),(R_0,R_4),(R_1,R_2),(R_1,R_3),(R_1,R_4),(R_2,R_3),(R_2,R_4),(R_3,R_4)$$\n",
    "\n",
    "Let's say that our scoring function (S) is defined so that match = 3, mismatch = -1, S(x,'-') = -1, S('-','-') = 0. \n",
    "\n",
    "Write a script that scores an alignment, according to the sum of pairs principle."
   ]
  },
  {
   "cell_type": "code",
   "execution_count": null,
   "metadata": {},
   "outputs": [],
   "source": [
    "import numpy as np\n",
    "\n",
    "aligned_sequences = [\"GTA\",\"G-A\",\"T-A\"]\n",
    "\n",
    "# Expected output for these sequences: col_score(0)+ col_score(1)+ col_score(2) = 1 + (-2) + 9 = 8\n",
    "\n",
    "# Define matrix\n",
    "\n",
    "# Hint: You can use list() to create list of characters from a string and array() from numpy\n",
    "\n",
    "matrix = ...\n",
    "\n",
    "# Define pair character scoring function\n",
    "\n",
    "def S(c1,c2):\n",
    "#    return score\n",
    "\n",
    "# Define column scoring function\n",
    "\n",
    "def col_score(col):\n",
    "#    return score\n",
    "\n",
    "print(sum(col_score(col) for col in matrix.T)) # matrix.T is the transposed matrix\n",
    "        "
   ]
  },
  {
   "cell_type": "markdown",
   "metadata": {},
   "source": [
    "## Dynamic approach for MSA\n",
    "\n",
    "Now that we have a method to score an alignment, how do we find the best alignment? Can we apply the dynamic approach that we used for pairwise sequence alignment? \n",
    "\n",
    "To compare 2 sequences, we constructed a 2D array which contained the optimal score for the alignment of prefices of the sequences. Every possible alignment could be defined as a path in the array. Similarly, we could calculate the score for the alignment of prefices of 3 sequences. The results would be stored in a 3D matrix and their graphic representation would be a cuboid. Each path within this cuboid would represent an alignment of the 3 sequences.\n",
    "\n",
    "<a href=\"https://arxiv.org/pdf/0901.2747.pdf\"><img src=\"images/msa-3d.png\" alt=\"MSA 3D matrix\" width=\"300\" align=\"center\"></a>\n",
    "\n",
    "This principle could be extended to any number of sequences. But is it practical to do so? For K sequences the scoring matrix would be K-dimensional. How would this affect the running time of the algorithm?\n",
    "\n",
    "See pages 3 and 4 of <a href=\"https://user.ceng.metu.edu.tr/~tcan/ceng465/Schedule/ceng465_week5.pdf\"> this document </a> to understand the complexity of the dynamic approach applied to the MSA problem."
   ]
  },
  {
   "cell_type": "markdown",
   "metadata": {},
   "source": [
    "Computing MSA score in reasonable time is actually not an easy problem. There are are multiple methods that have been developed to date, but none is considered optimal. In the next tutorial \"T2 - Advanced algorithms for MSA\" we will look at various approaches that are implemented in existing tools for multiple sequence alignment."
   ]
  }
 ],
 "metadata": {
  "kernelspec": {
   "display_name": "Python 3",
   "language": "python",
   "name": "python3"
  },
  "language_info": {
   "codemirror_mode": {
    "name": "ipython",
    "version": 3
   },
   "file_extension": ".py",
   "mimetype": "text/x-python",
   "name": "python",
   "nbconvert_exporter": "python",
   "pygments_lexer": "ipython3",
   "version": "3.8.10"
  }
 },
 "nbformat": 4,
 "nbformat_minor": 4
}
