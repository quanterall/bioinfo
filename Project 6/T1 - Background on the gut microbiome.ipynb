{
 "cells": [
  {
   "cell_type": "markdown",
   "metadata": {},
   "source": [
    "# Background on the gut microbiome\n",
    "\n",
    "What you will get from this tutorial:\n",
    "\n",
    "- What constitutes the microbiome and why is it important?\n",
    "- What is influencing the gut microbiome?\n",
    "- Become curious to learn more.\n",
    "\n",
    "“All disease begins in the gut.” – Hippocrates c. 400 BC\n",
    "\n",
    "The gut microbiome, in a more narrow definition, encompasses an extensive collection of symbiotic microorganisms (bacteria, archaea, eukaryotes, and viruses) residing in the human digestive system and their interacting genomes. These, to large extent still mysterious inhabitants, have tremendous influence on our physical and mental health, contributing to metabolic functions, immune system development, hormone production and many others. The gut microbiome is heavily dependent on its environment, including host genetics, method of delivery at birth, diet and medications. Multiple diseases as diverse as obesity, inflammatory bowel conditions, cancer and autism are associated with disorders of the gut microbiome. Find more about the link between microbes and disease here: https://learn.genetics.utah.edu/content/microbiome/disease. The understanding of the microbiome diversity and functions is essential for finding new biomarkers and targets for drug development. This will lead to the development of highly effective personalized healthcare protocols."
   ]
  },
  {
   "cell_type": "markdown",
   "metadata": {},
   "source": [
    "<img src=\"images/gut_micobiome.png\" style=\"width:400px;height:300px\"/>"
   ]
  },
  {
   "cell_type": "markdown",
   "metadata": {},
   "source": [
    "The human gut microbiome start to form early in life – there is evidence the gastrointestinal tract is populated even before birth, reaching an adult composition at around 3 years of age. The personal native microbiome remains mostly stable in adulthood but differs between individuals due to factors such as body mass index (BMI) level, exercise frequency, lifestyle, and cultural and dietary habits. [1]The microbial community accounts for more than 100 trillion microorganisms the genomes of which encode more than 3 million genes producing thousands of metabolites. In comparison, the human genome consists of approximately 23,000 genes. Gut microbiota are composed of bacteria, yeast, and viruses. Bacteria’s taxonomy (classification) includes phyla, classes, orders, families, genera, and species. From ~1,300 bacterial phyla only a few are present in the gastrointestinal tract –dominant are Firmicutes, Bacteroidetes, Actinobacteria, Proteobacteria, Fusobacteria, and Verrucomicrobia. Firmicutes and Bacteroidetes represent 90% of the total gut microbiota. [1] In total, there are 500 - 1000 species present. Lactobacillus delbrueckii subsp. bulgaricus, found in European yoghurt, is part of the Firmicutes phylum and has been scientifically proven to support immunity. [2] The lactic acid bacteria participating in milk fermentation have numerous other health benefits. [3]"
   ]
  },
  {
   "cell_type": "markdown",
   "metadata": {},
   "source": [
    "<a href=\"https://www.frontiersin.org/files/Articles/248410/fmicb-08-00846-HTML/image_m/fmicb-08-00846-g001.jpg\"><img src=\"images/LA bacteria.jpg\" width=\"600\" align=\"center\"></a>"
   ]
  },
  {
   "cell_type": "markdown",
   "metadata": {},
   "source": [
    "This talk will give you more information on how the gut microbiome starts developing and why this is important: https://www.youtube.com/watch?v=-KKSUR5SBLc \n",
    "How would this knowledge change the way we treat patients? With what medical approach, that you encountered in previous lectures, can you associate it?\n",
    "\n",
    "The gut is not the only organ the microbiome of which is of interest. Check out what other microbiomes are available: https://portal.hmpdacc.org/\n",
    "\n",
    "[1]\tE. Rinninella, P. Raoul, M. Cintoni, F. Franceschi, G.A.D. Miggiano, A. Gasbarrini, M.C. Mele, What is the Healthy Gut Microbiota Composition? A Changing Ecosystem across Age, Environment, Diet, and Diseases, Microorganisms. 7 (2019) E14. https://doi.org/10.3390/microorganisms7010014.\n",
    "\n",
    "[2]\tM.A. Moro-García, R. Alonso-Arias, M. Baltadjieva, C. Fernández Benítez, M.A. Fernández Barrial, E. Díaz Ruisánchez, R. Alonso Santos, M. Alvarez Sánchez, J. Saavedra Miján, C. López-Larrea, Oral supplementation with Lactobacillus delbrueckii subsp. bulgaricus 8481 enhances systemic immunity in elderly subjects, Age (Dordr). 35 (2013) 1311–1326. https://doi.org/10.1007/s11357-012-9434-6.\n",
    "\n",
    "[3]\tD.M. Linares, C. Gómez, E. Renes, J.M. Fresno, M.E. Tornadijo, R.P. Ross, C. Stanton, Lactic Acid Bacteria and Bifidobacteria with Potential to Design Natural Biofunctional Health-Promoting Dairy Foods, Front. Microbiol. 8 (2017) 846. https://doi.org/10.3389/fmicb.2017.00846.\n"
   ]
  },
  {
   "cell_type": "code",
   "execution_count": null,
   "metadata": {},
   "outputs": [],
   "source": []
  }
 ],
 "metadata": {
  "kernelspec": {
   "display_name": "Python 3",
   "language": "python",
   "name": "python3"
  },
  "language_info": {
   "codemirror_mode": {
    "name": "ipython",
    "version": 3
   },
   "file_extension": ".py",
   "mimetype": "text/x-python",
   "name": "python",
   "nbconvert_exporter": "python",
   "pygments_lexer": "ipython3",
   "version": "3.8.10"
  }
 },
 "nbformat": 4,
 "nbformat_minor": 4
}
