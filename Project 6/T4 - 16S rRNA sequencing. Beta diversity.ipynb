{
 "cells": [
  {
   "cell_type": "markdown",
   "metadata": {},
   "source": [
    "# What we’ll focus on today:\n",
    "\n",
    "- The metrics describing beta diversity: Bray-Curtis dissimilarity and UniFrac distance\n",
    "- Generating a PCoA plot and drawing some conclusions about our data\n",
    "\n",
    "## Beta diversity\n",
    "\n",
    "Beta diversity is a measure of similarity or dissimilarity <b>BETWEEN</b> communities (between-habitat diversity). We have two different gardens below – can we quantify how similar they are in terms of diversity? Beta diversity takes into account the whole distribution of the community and identifies the differences in composition and structure. It is widely used for studying the association between environmental variables and microbial composition."
   ]
  },
  {
   "cell_type": "markdown",
   "metadata": {},
   "source": [
    "<a href=\"https://www.youtube.com/watch?v=tucm8y5xi88\"><img src=\"images/beta_diversity.png\" width=\"500\" align=\"center\"></a>"
   ]
  },
  {
   "cell_type": "markdown",
   "metadata": {},
   "source": [
    "### Bray-Curtis dissimilarity\n",
    "\n",
    "The Bray-Curtis dissimilarity considers both size (total abundance per sample) and shape (abundance of each taxa) of the communities. It is the sum of all of the lowest values for all of the species divided by the total sum of all species: BC<sub>ij</sub> = 1 – (2*C<sub>ij</sub>) / (S<sub>i</sub> + S<sub>j</sub>), where C<sub>ij</sub> is the sum of the lesser values for the species found in each site, S<sub>i</sub> is the total number of specimens counted at site i, and S<sub>j</sub> is the total number of specimens counted at site j. The Bray-Curtis Dissimilarity is always between 0 and 1, where 0 means that two samples have zero dissimilarity, or share the exact same number of species and 1 stands for complete dissimilarity, or no shares species. For a step-by-step calculation click <a href=\"https://www.statology.org/bray-curtis-dissimilarity/\">here</a>.\n",
    "\n",
    "### UniFrac distance\n",
    "\n",
    "The UniFrac (from <b>Uni</b>que <b>Frac</b>tion) distance tells us how closely related, in terms of phylogeny, two different microbiomes are. It is closely related to the phylogeny-based alpha diversity, where we added together all branch lengths of the tree of one sample. Here we calculate the ratio of observed branch length unique to every sample. If two communities are identical we don’t have any unique branches in either sample and UniFrac, or D is equal to 0. If the higher taxa (such as Phylum or Class) are the same, we add only the smaller branches that are different. If the two communities don’t share any branch D = 1.\n",
    "\n",
    "The usual procedure is: 1. generate a tree, containing the species of all samples, 2. calculate the UniFrac distance between every pair of samples, producing a distance matrix 3. make principal coordinates analysis to visualize the distances."
   ]
  },
  {
   "cell_type": "markdown",
   "metadata": {},
   "source": [
    "<a href=\"https://www.youtube.com/watch?v=M8ylvsS0MHg\"><img src=\"images/UniFrac.png\" width=\"500\" align=\"center\"></a>"
   ]
  },
  {
   "cell_type": "markdown",
   "metadata": {},
   "source": [
    "Weighted UniFrac takes into account the relative abundances, where the branches are weighted by how much there is of each species in the sample. It puts more emphasis on the dominant organisms.\n",
    "\n",
    "### PCoA analysis\n",
    "\n",
    "Principal coordinates analysis (PCoA) summarizes and represents inter-object dissimilarity in a low-dimensional, Euclidean space (the length of the line between two points). The input is a dissimilarity matrix. In the picture below we see a PCoA ordination of a Bray-Curtis dissimilarity matrix. Objects that are ordinated closer together have smaller dissimilarity values than those ordinated further apart. A good PCoA captures most of the variation in the dissimilarity matrix in fewer PCoA axes."
   ]
  },
  {
   "cell_type": "markdown",
   "metadata": {},
   "source": [
    "<a href=\"https://mb3is.megx.net/gustame/dissimilarity-based-methods/principal-coordinates-analysis\"><img src=\"images/pcoa.png\" width=\"600\" align=\"center\"></a>"
   ]
  },
  {
   "cell_type": "markdown",
   "metadata": {},
   "source": [
    "The choice of dissimilarity measure is critical and must be suitable to the data in question. It will also, together with the number of input variables, determine the number of dimensions.\n",
    "\n",
    "The result of PCoA is a set of uncorrelated (orthogonal) axes to summarise the variability in the data. The <a href=\"https://www.youtube.com/watch?v=PFDu9oVAE-g\">eigenvalue</a> of each axis indicates the amount of variation captured in that axis. The proportion of a given eigenvalue to the sum of all eigenvalues indicates how important each axis is. A successful PCoA will generate 2-3 axes with relatively large eigenvalues, capturing > 50% of the variation in the input data. Objects ordinated closer to one another are more similar than objects ordinated further away. Importantly, information about the original variables cannot be recovered. \n",
    "\n",
    "Now let’s look at the FMT analysis. We already have generated the PcoA plots – visualize bray_curtis_emperor.qzv, unweighted_unifrac_emperor.qzv and weighted_unifrac_emperor.qzv  by dropping them <a href=\"https://view.qiime2.org/\">here</a>.\n",
    "\n",
    "At approximately what week in the study do microbiome samples in individuals who receive treatment appear most similar to FMT donors in terms of Bray-Curtis, unweighted  and weighted UniFrac distances? Is there a visual difference in the grouping of the control and treatment samples? (Hint: You can play with the color tab and visibility menu.)\n",
    "\n",
    "The pattern is stronger based on which distance? Based on how you know about these metrics, what does this suggest to you about what is changing in the microbiome with fecal microbiota transplant?"
   ]
  },
  {
   "cell_type": "code",
   "execution_count": null,
   "metadata": {},
   "outputs": [],
   "source": []
  }
 ],
 "metadata": {
  "kernelspec": {
   "display_name": "Python 3",
   "language": "python",
   "name": "python3"
  },
  "language_info": {
   "codemirror_mode": {
    "name": "ipython",
    "version": 3
   },
   "file_extension": ".py",
   "mimetype": "text/x-python",
   "name": "python",
   "nbconvert_exporter": "python",
   "pygments_lexer": "ipython3",
   "version": "3.8.10"
  }
 },
 "nbformat": 4,
 "nbformat_minor": 4
}
