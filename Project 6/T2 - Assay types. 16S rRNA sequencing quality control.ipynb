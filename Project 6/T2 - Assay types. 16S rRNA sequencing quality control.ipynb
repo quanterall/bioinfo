{
 "cells": [
  {
   "cell_type": "markdown",
   "metadata": {},
   "source": [
    "# What you will learn today:\n",
    "\n",
    "- The different types of assays the microbiome is studied with\n",
    "- Working with QIIME 2: 16S rRNA sequencing quality control\n",
    "\n",
    "## Assay types\n",
    "\n",
    "The scientific interest in the gut microbiome has been ever-present, but a significant obstacle was that it is not always possible to culture these microorganisms in laboratory conditions. The relatively recent next generation “omics” technologies have now powered <b><font color='red'>systems biology</font></b> approaches to describe the gut microbiome from various angles. Omics technologies are high-throughput biochemical assays, designed to measure simultaneously and comprehensively molecules of the same type from a biological sample. [1] We are able to analyse the microbes’ DNA (metagenomics), RNA (metatranscriptomics), proteins (metaproteomics) and metabolites (metametabolomics). Metagenomics refers to the collection of ALL microbial genomes, or genes of a sample. It is obtained by shotgun sequencing of extracted DNA followed by assembly or mapping to a reference database followed by annotation. This is different from metataxonomics, which relies on the amplification and sequencing of taxonomic marker genes. Metagenomics is more insightful about the potential function of the microbes. Metatranscriptomics analyses the complete profile of expressed RNAs by high-throughput sequencing of the corresponding meta-cDNAs. It provides information on the expression profiles and their regulation. The term metaproteomics refers to a large-scale characterization of the entire protein profile, not discriminating between proteins from the microbiota and the host. The proteins are classified with computational approaches. Metabolomics approaches determine the metabolite profile - the resulting collection of all present metabolites is called metabolome. [2] All these studies give information about the roles of the gut microbiome in our health. For example, anti-diabetic treatments like the popular metformin and sulfonylurea  modulate the gut microbiota’s metabolic profiles, which has a positive effect on insulin resistance. [3] One of the future challenges is to find ways to integrate the different data types to obtain broader perspective and to deliver accurate sample classification and prediction, which is important for diagnostics in the future.\n",
    "\n",
    "<b><font color='red'>Systems biology</font></b> –An approach in biomedicine to understand the bigger picture by putting its pieces together. That could be at the level of the organism, tissue, or cell. It often integrates multiple scientific spheres – chemistry, biology, physics, computer science, bioinformatics, engineering etc. There is stark contrast between systems biology and the “older” and conventional reductionist biology, which studies a subject by taking its pieces apart.[4]\n"
   ]
  },
  {
   "cell_type": "markdown",
   "metadata": {},
   "source": [
    "<a href=\"https://www.ncbi.nlm.nih.gov/core/lw/2.0/html/tileshop_pmc/tileshop_pmc_inline.html?title=Click%20on%20image%20to%20zoom&p=PMC3&id=5292562_cti201691f1.jpg\"><img src=\"images/assays.jpg\" width=\"450\" align=\"center\"></a>"
   ]
  },
  {
   "cell_type": "markdown",
   "metadata": {},
   "source": [
    "## 16S rRNA amplicon sequencing\n",
    "\n",
    "Let’s have a look at metataxonomics. Amplicon sequencing is a PCR-based method, providing information about the different microorganisms present within a sample. Amplicons are DNA (or RNA) fragments that are the template and/or product of amplification events. Amplicon sequencing uses a “marker” gene that is a unique identifier for different bacterial genera. Prokaryotes can be distinguished from eukaryotes by their ribosomes. The 16S ribosomal RNA (rRNA) gene, part of the small ribosome subunit, is highly conserved (the sequence retains similarity throughout evolution) between species of bacteria and archaea. The gut bacteria can be studied by sequencing the variable regions of the 16S rRNA, while eukaryotic organisms (fungi, parasites and the host) can be assessed by sequencing the 18S rRNA encoding sequence. This method is inexpensive. It provides an opportunity to compare bacterial communities between two groups of samples (for example sick vs healthy), and assess alterations over time within a patient. A major limitation of this method its low resolution – the phylogenetic information is not enough to differentiate at the level of species."
   ]
  },
  {
   "cell_type": "markdown",
   "metadata": {},
   "source": [
    "<a href=\"https://www3.nd.edu/~aseriann/rna.html\"><img src=\"images/rrna.gif\" width=\"300\" align=\"left\"></a>\n",
    "<a href=\"https://socratic.org/questions/580e5702b72cff43cca22ec6\"><img src=\"images/ribosomes.jpg\" width=\"500\" align=\"center\"></a>"
   ]
  },
  {
   "cell_type": "markdown",
   "metadata": {},
   "source": [
    "The steps of the 16S rRNA gene amplicon sequencing include DNA extraction, PCR amplification of the (mostly) V4 Hypervariable region of the 16S rRNA gene with broad-spectrum primers, sequencing and computational processing. The downstream analysis often involves clustering of similar sequences into <b><font color='red'>Operational Taxonomic Unit</font></b>s (OTUs) and subsequent taxonomic assignment by comparison with a reference database of known sequences. The results are summarized in a OTU table. It contains the read counts of all OTUs of the samples and the assigned taxonomy.\n",
    "\n",
    "<b><font color='red'>Operational taxonomic unit</font></b> - the basic unit of numerical taxonomy. It can refer to an individual, species, genus, class, etc. In most cases, OTU refers to clusters of microorganisms, that scientists cannot cultivate in a lab, which are grouped according to their DNA sequence similarity. Usually, 97% 16S rRNA sequence similarity is used to delineate species. [5]  [6]\n",
    "\n",
    "Another way to analyse microbial data present the more recently developed <b><font color='red'>Amplicon Sequence Variant</font></b>s (ASVs). [7] Here we start by determining which exact sequences were read how many times. These data is combined with an error model for the sequencing run. The comparison of similar reads determines the probability that a given read at a given frequency is not due to sequencer error. ASVs have gained popularity, partly due to the reflection a more refined level of taxonomy since they do not cluster sequences based on a distance threshold. We will make the sample diversity analysis with ASV-tables.\n",
    "\n",
    "For a detailed explanation about the difference between OTUs and ASV look at this <a href=\"https://www.youtube.com/watch?v=azI9taClDhQ\">video</a>."
   ]
  },
  {
   "cell_type": "markdown",
   "metadata": {},
   "source": [
    "<a href=\"https://cloudfront.jove.com/files/ftp_upload/53939/53939fig1.jpg\"><img src=\"images/amplicon sequencing.jpg\" width=\"500\" align=\"center\"></a>"
   ]
  },
  {
   "cell_type": "markdown",
   "metadata": {},
   "source": [
    "An example of a comprehensive pipeline for processing raw sequencing data and generating OTU- or ASV-tables is QIIME 2 (Quantitative Insights Into Microbial Ecology). QIIME 2 is a powerful end-to-end microbiome analysis package, which makes it possible for researchers to perform a complete analysis - from raw DNA sequence data to publication-quality figures and statistical results. Below is a schematic overview of a workflow that we will follow for examining amplicon sequence data.\n",
    "\n",
    "<a href=\"https://docs.qiime2.org/2022.2/tutorials/overview/\"><img src=\"images/microbiome_QIIME2_study.png\" width=\"450\" align=\"center\"></a>\n",
    "\n",
    "Let’s have a look at the fecal microbiota transplant (FMT) study <a href=\"https://docs.qiime2.org/2022.2/tutorials/fmt/\">tutorial</a>. We need first to download the required data and perform some quality control steps. QIIME 2 has been installed for you.\n",
    "\n",
    "The data originates from a <a href=\"https://microbiomejournal.biomedcentral.com/articles/10.1186/s40168-016-0225-7\">Fecal Microbiome Transplant</a> study where children under the age of 18 with autism and gastrointestinal disorders were treated with fecal microbiota transplant in attempt to reduce their behavioral and gastrointestinal symptoms. The microbiome was tracked through collection of weekly fecal swab samples and less frequent stool samples. The full study is a phase 1 clinical trial to test safety of the treatment. The treated patients were compared to controls that did not receive the treatment. We will use a subsample that includes data from five individuals who received treatment and five controls. Between six and sixteen samples are included per individual, including stool and fecal swab samples for each individual and samples before and after FMT treatment. Five samples of the transplanted fecal material are also included.\n",
    "\n",
    "Before we begin, we need to activate the QIIME 2 environment. Type conda activate qiime2-2022.2 in your terminal before starting jupyter notebook."
   ]
  },
  {
   "cell_type": "code",
   "execution_count": null,
   "metadata": {},
   "outputs": [],
   "source": [
    "%%bash\n",
    "qiime info"
   ]
  },
  {
   "cell_type": "markdown",
   "metadata": {},
   "source": [
    "You are going to need the sample metadata. It is instrumental to gaining biological insight from the experiment. The sample metadata may include technical information, such as the sample-specific DNA barcodes (sequence that identifies the sample) that were used in a <a href=\"https://www.illumina.com/techniques/sequencing/ngs-library-prep/multiplexing.html\">multiplexed</a> sequencing run, or sample descriptions - subject, time point, and body site a sample originates from. The metadata is usually specific to a given microbiome study."
   ]
  },
  {
   "cell_type": "code",
   "execution_count": null,
   "metadata": {},
   "outputs": [],
   "source": [
    "%%bash\n",
    "wget \\\n",
    "  -O \"sample-metadata.tsv\" \\\n",
    "  \"https://data.qiime2.org/2022.2/tutorials/fmt/sample_metadata.tsv\""
   ]
  },
  {
   "cell_type": "markdown",
   "metadata": {},
   "source": [
    "In our case, the sequences have been demultiplexed. Download them."
   ]
  },
  {
   "cell_type": "code",
   "execution_count": null,
   "metadata": {},
   "outputs": [],
   "source": [
    "%%bash\n",
    "wget \\\n",
    "  -O \"fmt-tutorial-demux-1.qza\" \\\n",
    "  \"https://data.qiime2.org/2022.2/tutorials/fmt/fmt-tutorial-demux-1-10p.qza\"\n",
    "wget \\\n",
    "  -O \"fmt-tutorial-demux-2.qza\" \\\n",
    "  \"https://data.qiime2.org/2022.2/tutorials/fmt/fmt-tutorial-demux-2-10p.qza\""
   ]
  },
  {
   "cell_type": "markdown",
   "metadata": {},
   "source": [
    "For the quality control, we first need to determine which bases should be trimmed (also denoising the data). Visualise the quality plot by dropping the .qzv files <a href=\"https://view.qiime2.org/\">here</a>. Where does the quality drop?"
   ]
  },
  {
   "cell_type": "code",
   "execution_count": null,
   "metadata": {},
   "outputs": [],
   "source": [
    "%%bash\n",
    "qiime demux summarize \\\n",
    "  --i-data fmt-tutorial-demux-1.qza \\\n",
    "  --o-visualization demux-summary-1.qzv\n",
    "qiime demux summarize \\\n",
    "  --i-data fmt-tutorial-demux-2.qza \\\n",
    "  --o-visualization demux-summary-2.qzv"
   ]
  },
  {
   "cell_type": "markdown",
   "metadata": {},
   "source": [
    "Trim the low quality bases. Replace < add parameter > with appropriate values. "
   ]
  },
  {
   "cell_type": "code",
   "execution_count": null,
   "metadata": {},
   "outputs": [],
   "source": [
    "%%bash\n",
    "qiime dada2 denoise-single \\\n",
    "  --p-trim-left < add parameter > \\\n",
    "  --p-trunc-len < add parameter > \\\n",
    "  --i-demultiplexed-seqs fmt-tutorial-demux-1.qza \\\n",
    "  --o-representative-sequences rep-seqs-1.qza \\\n",
    "  --o-table table-1.qza \\\n",
    "  --o-denoising-stats stats-1.qza\n",
    "qiime dada2 denoise-single \\\n",
    "  --p-trim-left < add parameter > \\\n",
    "  --p-trunc-len < add parameter > \\\n",
    "  --i-demultiplexed-seqs fmt-tutorial-demux-2.qza \\\n",
    "  --o-representative-sequences rep-seqs-2.qza \\\n",
    "  --o-table table-2.qza \\\n",
    "  --o-denoising-stats stats-2.qza"
   ]
  },
  {
   "cell_type": "markdown",
   "metadata": {},
   "source": [
    "Look at the basic statistics about the denoising process. Chimeras are hybrid amplification products, originating from multiple parent sequences. They can be falsely interpreted as novel organisms. [7] Which sample has the lowest percentage of non-chimeric sequences?"
   ]
  },
  {
   "cell_type": "code",
   "execution_count": null,
   "metadata": {},
   "outputs": [],
   "source": [
    "%%bash\n",
    "qiime metadata tabulate \\\n",
    "  --m-input-file stats-1.qza \\\n",
    "  --o-visualization denoising-stats-1.qzv\n",
    "qiime metadata tabulate \\\n",
    "  --m-input-file stats-2.qza \\\n",
    "  --o-visualization denoising-stats-2.qzv"
   ]
  },
  {
   "cell_type": "markdown",
   "metadata": {},
   "source": [
    "We’re now ready to merge the generated artifacts (objects). First merge the two FeatureTable[Frequency] artifacts, then merge the two FeatureData[Sequence] artifacts."
   ]
  },
  {
   "cell_type": "code",
   "execution_count": null,
   "metadata": {},
   "outputs": [],
   "source": [
    "%%bash\n",
    "qiime feature-table merge \\\n",
    "  --i-tables table-1.qza \\\n",
    "  --i-tables table-2.qza \\\n",
    "  --o-merged-table table.qza\n",
    "qiime feature-table merge-seqs \\\n",
    "  --i-data rep-seqs-1.qza \\\n",
    "  --i-data rep-seqs-2.qza \\\n",
    "  --o-merged-data rep-seqs.qza"
   ]
  },
  {
   "cell_type": "markdown",
   "metadata": {},
   "source": [
    "Generate summary of the merged FeatureTable[Frequency] artifact. This is useful for determining the value for the --p-sampling-depth parameter when you run qiime diversity core-metrics-phylogenetic."
   ]
  },
  {
   "cell_type": "code",
   "execution_count": null,
   "metadata": {},
   "outputs": [],
   "source": [
    "%%bash\n",
    "qiime feature-table summarize \\\n",
    "  --i-table table.qza \\\n",
    "  --o-visualization table.qzv \\\n",
    "  --m-sample-metadata-file sample-metadata.tsv"
   ]
  },
  {
   "cell_type": "markdown",
   "metadata": {},
   "source": [
    "Generate a summary of the merged FeatureData[Sequence] artifact. This is to obtain more information about specific features of interest as you proceed through the analysis."
   ]
  },
  {
   "cell_type": "code",
   "execution_count": null,
   "metadata": {},
   "outputs": [],
   "source": [
    "%%bash\n",
    "qiime feature-table tabulate-seqs \\\n",
    "  --i-data rep-seqs.qza \\\n",
    "  --o-visualization rep-seqs.qzv"
   ]
  },
  {
   "cell_type": "markdown",
   "metadata": {},
   "source": [
    "[1]\tA. Conesa and S. Beck, “Making multi-omics data accessible to researchers,” Sci. Data, vol. 6, no. 1, p. 251, Dec. 2019, doi: 10.1038/s41597-019-0258-4.\n",
    "\n",
    "[2]\tJ. R. Marchesi and J. Ravel, “The vocabulary of microbiome research: a proposal,” Microbiome, vol. 3, no. 1, pp. 31, s40168-015-0094–5, Dec. 2015, doi: 10.1186/s40168-015-0094-5.\n",
    "\n",
    "[3]\tT. Huo, S. Cai, X. Lu, Y. Sha, M. Yu, and F. Li, “Metabonomic study of biochemical changes in the serum of type 2 diabetes mellitus patients after the treatment of metformin hydrochloride,” J. Pharm. Biomed. Anal., vol. 49, no. 4, pp. 976–982, May 2009, doi: 10.1016/j.jpba.2009.01.008.\n",
    "\n",
    "[4]\t“https://irp.nih.gov/catalyst/v19i6/systems-biology-as-defined-by-nih#:~:text=Systems%20biology%20is%20an%20approach,involves%20taking%20the%20pieces%20apart.”\n",
    "\n",
    "[5]\tY. He et al., “Stability of operational taxonomic units: an important but neglected property for analyzing microbial diversity,” Microbiome, vol. 3, no. 1, p. 20, Dec. 2015, doi: 10.1186/s40168-015-0081-x.\n",
    "\n",
    "[6]\tN.-P. Nguyen, T. Warnow, M. Pop, and B. White, “A perspective on 16S rRNA operational taxonomic unit clustering using sequence similarity,” Npj Biofilms Microbiomes, vol. 2, no. 1, p. 16004, Nov. 2016, doi: 10.1038/npjbiofilms.2016.4.\n",
    "\n",
    "[7]\tB. J. Callahan, P. J. McMurdie, and S. P. Holmes, “Exact sequence variants should replace operational taxonomic units in marker-gene data analysis,” ISME J., vol. 11, no. 12, pp. 2639–2643, Dec. 2017, doi: 10.1038/ismej.2017.119.\n",
    "\n",
    "[8]\tB. J. Haas et al., “Chimeric 16S rRNA sequence formation and detection in Sanger and 454-pyrosequenced PCR amplicons,” Genome Res., vol. 21, no. 3, pp. 494–504, Mar. 2011, doi: 10.1101/gr.112730.110."
   ]
  },
  {
   "cell_type": "code",
   "execution_count": null,
   "metadata": {},
   "outputs": [],
   "source": []
  }
 ],
 "metadata": {
  "kernelspec": {
   "display_name": "Python 3",
   "language": "python",
   "name": "python3"
  },
  "language_info": {
   "codemirror_mode": {
    "name": "ipython",
    "version": 3
   },
   "file_extension": ".py",
   "mimetype": "text/x-python",
   "name": "python",
   "nbconvert_exporter": "python",
   "pygments_lexer": "ipython3",
   "version": "3.8.10"
  }
 },
 "nbformat": 4,
 "nbformat_minor": 4
}
