{
 "cells": [
  {
   "cell_type": "markdown",
   "id": "7c3574ac",
   "metadata": {},
   "source": [
    "# What you will get from this tutorial:\n",
    "\n",
    "- Knowledge about the concepts of alpha and beta diversity\n",
    "- How to calculate the metrics that describe alpha diversity with QIIME 2\n",
    "\n",
    "Now, after we have processed all of the sequences and generated a feature table we are ready to study the samples’ diversity. Balanced gut microbiomes with greater diversity are present in healthy, long-living people, while disturbed microbiomes with dysbiosis (with increased levels of Proteobacteria or with reduced diversity) are observed in elderly people with different comorbidities [1] or are present in patients with diseases such as Crohn's disease, irritable bowel syndrome, obesity, autism, etc. Transplantation of fecal microbiota is aimed at restoring diversity [2]. Let’s see, if it is successful in our case."
   ]
  },
  {
   "cell_type": "markdown",
   "id": "f95db262",
   "metadata": {},
   "source": [
    "<a href=\"https://www.smartnutritionbykg.com/microbial-diversity-the-single-most-important-factor-when-it-comes-to-our-health/\"><img src=\"images/Microbial-Diveristy.jpeg\" width=\"300\" align=\"center\"></a>"
   ]
  },
  {
   "cell_type": "markdown",
   "id": "99b63062",
   "metadata": {},
   "source": [
    "Before we start analysing the diversity we need to generate a rooted phylogenetic tree relating the features to one another. It will be stored in a Phylogeny[Rooted] artifact. To generate a phylogenetic tree we will use align-to-tree-mafft-fasttree pipeline.\n",
    "First, the pipeline performs a multiple sequence alignment of the sequences in our FeatureData[Sequence] to create a FeatureData[AlignedSequence] QIIME 2 artifact. Next, it masks (or filters) the alignment to remove positions that are highly variable and only add noise to a resulting phylogenetic tree. After that, it generates phylogenetic trees – an unrooted tree and a rooted one, with the root  placed at the midpoint of the longest tip-to-tip distance in the unrooted tree."
   ]
  },
  {
   "cell_type": "markdown",
   "id": "41b4d721",
   "metadata": {},
   "source": [
    "<a href=\"https://slideplayer.com/slide/5986566/\"><img src=\"images/rooted_unrooted_tree.jpg\" width=\"350\" align=\"center\"></a>"
   ]
  },
  {
   "cell_type": "markdown",
   "id": "ded8683b",
   "metadata": {},
   "source": [
    "Make sure QIIME 2 is active - type conda activate qiime2-2022.2 in your terminal before starting jupyter notebook."
   ]
  },
  {
   "cell_type": "code",
   "execution_count": 1,
   "id": "6180dda2",
   "metadata": {},
   "outputs": [
    {
     "name": "stdout",
     "output_type": "stream",
     "text": [
      "System versions\n",
      "Python version: 3.8.12\n",
      "QIIME 2 release: 2022.2\n",
      "QIIME 2 version: 2022.2.0\n",
      "q2cli version: 2022.2.0\n",
      "\n",
      "Installed plugins\n",
      "alignment: 2022.2.0\n",
      "composition: 2022.2.0\n",
      "cutadapt: 2022.2.0\n",
      "dada2: 2022.2.0\n",
      "deblur: 2022.2.0\n",
      "demux: 2022.2.0\n",
      "diversity: 2022.2.0\n",
      "diversity-lib: 2022.2.0\n",
      "emperor: 2022.2.0\n",
      "feature-classifier: 2022.2.0\n",
      "feature-table: 2022.2.0\n",
      "fragment-insertion: 2022.2.0\n",
      "gneiss: 2022.2.0\n",
      "longitudinal: 2022.2.0\n",
      "metadata: 2022.2.0\n",
      "phylogeny: 2022.2.0\n",
      "quality-control: 2022.2.0\n",
      "quality-filter: 2022.2.0\n",
      "sample-classifier: 2022.2.0\n",
      "taxa: 2022.2.0\n",
      "types: 2022.2.0\n",
      "vsearch: 2022.2.0\n",
      "\n",
      "Application config directory\n",
      "/home/felitsiya/miniconda3/envs/qiime2-2022.2/var/q2cli\n",
      "\n",
      "Getting help\n",
      "To get help with QIIME 2, visit https://qiime2.org\n",
      "Saved FeatureData[AlignedSequence] to: aligned-rep-seqs.qza\n",
      "Saved FeatureData[AlignedSequence] to: masked-aligned-rep-seqs.qza\n",
      "Saved Phylogeny[Unrooted] to: unrooted-tree.qza\n",
      "Saved Phylogeny[Rooted] to: rooted-tree.qza\n"
     ]
    }
   ],
   "source": [
    "%%bash\n",
    "qiime info\n",
    "qiime phylogeny align-to-tree-mafft-fasttree \\\n",
    "  --i-sequences rep-seqs.qza \\\n",
    "  --o-alignment aligned-rep-seqs.qza \\\n",
    "  --o-masked-alignment masked-aligned-rep-seqs.qza \\\n",
    "  --o-tree unrooted-tree.qza \\\n",
    "  --o-rooted-tree rooted-tree.qza"
   ]
  },
  {
   "cell_type": "markdown",
   "id": "e11c3983",
   "metadata": {},
   "source": [
    "The microbiome within a sample or between multiple samples can be described with alpha and beta diversity. They let us see the “big picture” - a broader difference in the composition microorganisms.\n",
    "\n",
    "## Alpha diversity\n",
    "\n",
    "Alpha diversity observes microbial diversity <b>WITHIN ONE</b> community (within-habitat diversity). The metrics here describe the richness or evenness of a microbial community, or a combination of both. Richness is the number of species present in the community. Evenness describes the distribution of the species count across the community. Evenness is highest when all species in the community have the same abundance and approaches zero as relative abundances vary."
   ]
  },
  {
   "cell_type": "markdown",
   "id": "599293be",
   "metadata": {},
   "source": [
    "<a href=\"https://www.nature.com/scitable/knowledge/library/characterizing-communities-13241173/\"><img src=\"images/richness_evenness.jpg\" width=\"400\" align=\"center\"></a>"
   ]
  },
  {
   "cell_type": "markdown",
   "id": "83d444a9",
   "metadata": {},
   "source": [
    "In the picture above both communities contain five species, which means that richness is the same. There is a total of 25 organisms in each sample, so abundance is 25. The left community is dominated by one species. The right community has equal proportions of each species and therefore greater evenness. Thus the community on the right has higher species diversity.\n",
    "\n",
    "Such straight-forward estimation of richness and evenness is not always possible, as the number of species in a community is dependent on the number of collected samples. More species are usually collected with more samples, which invalidates the comparisons. A solution to this problem is to standardize the sampling by creating a taxon sampling (rarefaction) curve. <a href=\"https://www.youtube.com/watch?v=g5BdGP4V5YA\">Rarefaction</a> is a resampling (without replacement) approach to generate a curve that allows comparisons among samples by selecting a minimum sample size of all the collections. Rarefaction curves are often used when calculating alpha diversity metrics to estimate the full sample richness. The rarefaction curve is plotted as the number of species against the number of samples. This is done by randomly re-sampling the sample pool multiple times and then plotting (usually) the quantity R of species in each sample. Usually, it initially grows rapidly, as the most common species are found, and then slightly flattens, as the rarest species remain to be sampled. If we obtain a similar quantity with fewer observations, R has converged on a good estimate of the correct richness. If R is keeps increasing or decreasing, then we cannot make a good estimate. In the example below, the red curve is still increasing - it has not converged. The blue curve has reached a horizontal asymptote - the value of R is a good estimate of the richness. In the case with the ever increasing species count, we have two possibilities: we need to collect more samples, because we have not yet sampled all the present species, or we have read errors that inflate R."
   ]
  },
  {
   "cell_type": "markdown",
   "id": "a05b5344",
   "metadata": {},
   "source": [
    "<a href=\"https://www.drive5.com/usearch/manual9.2/rare.html\"><img src=\"images/rare.gif\" width=\"400\" align=\"center\"></a>"
   ]
  },
  {
   "cell_type": "markdown",
   "id": "f3b8a78d",
   "metadata": {},
   "source": [
    "Take a look at alpha diversity explained in a <a href=\"https://www.youtube.com/watch?v=9ZvoR89HYP8&t=20s\">video</a>.\n",
    "\n",
    "We need to apply the core-metrics-phylogenetic method to rarefy the FeatureTable[Frequency] to a certain depth. This also computes several alpha and beta diversity metrics. Here we need to provide an important parameter : --p-sampling-depth, which is the rarefaction depth. It determines most diversity metrics, randomly subsampling the counts from each sample to the provided value. If the total count for a sample is smaller than its value, those samples will be dropped from the diversity analysis. Choosing this value is tricky and important! Make the choice by reviewing the table.qzv file. Pick a value that is as high as possible (so you retain more sequences per sample) while excluding as few samples as possible. Which sample(s) did you exclude? Control, treatment or donor? To identify their label look at the metadata (remember, you downloaded it earlier)."
   ]
  },
  {
   "cell_type": "code",
   "execution_count": 2,
   "id": "48a4d7f9",
   "metadata": {},
   "outputs": [
    {
     "name": "stderr",
     "output_type": "stream",
     "text": [
      "Usage: qiime diversity core-metrics-phylogenetic [OPTIONS]\n",
      "\n",
      "  Applies a collection of diversity metrics (both phylogenetic and non-\n",
      "  phylogenetic) to a feature table.\n",
      "\n",
      "Inputs:\n",
      "  --i-table ARTIFACT FeatureTable[Frequency]\n",
      "                          The feature table containing the samples over which\n",
      "                          diversity metrics should be computed.     [required]\n",
      "  --i-phylogeny ARTIFACT  Phylogenetic tree containing tip identifiers that\n",
      "    Phylogeny[Rooted]     correspond to the feature identifiers in the table.\n",
      "                          This tree can contain tip ids that are not present\n",
      "                          in the table, but all feature ids in the table must\n",
      "                          be present in this tree.                  [required]\n",
      "Parameters:\n",
      "  --p-sampling-depth INTEGER\n",
      "    Range(1, None)        The total frequency that each sample should be\n",
      "                          rarefied to prior to computing diversity metrics.\n",
      "                                                                    [required]\n",
      "  --m-metadata-file METADATA...\n",
      "    (multiple arguments   The sample metadata to use in the emperor plots.\n",
      "     will be merged)                                                [required]\n",
      "  --p-n-jobs-or-threads VALUE Int % Range(1, None) | Str % Choices('auto')\n",
      "                          [beta/beta-phylogenetic methods only] - The number\n",
      "                          of concurrent jobs or CPU threads to use in\n",
      "                          performing this calculation. Individual methods will\n",
      "                          create jobs/threads as implemented in\n",
      "                          q2-diversity-lib dependencies. May not exceed the\n",
      "                          number of available physical cores. If\n",
      "                          n-jobs-or-threads = 'auto', one thread/job will be\n",
      "                          created for each identified CPU core on the host.\n",
      "                                                                  [default: 1]\n",
      "Outputs:\n",
      "  --o-rarefied-table ARTIFACT FeatureTable[Frequency]\n",
      "                          The resulting rarefied feature table.     [required]\n",
      "  --o-faith-pd-vector ARTIFACT SampleData[AlphaDiversity]\n",
      "                          Vector of Faith PD values by sample.      [required]\n",
      "  --o-observed-features-vector ARTIFACT SampleData[AlphaDiversity]\n",
      "                          Vector of Observed Features values by sample.\n",
      "                                                                    [required]\n",
      "  --o-shannon-vector ARTIFACT SampleData[AlphaDiversity]\n",
      "                          Vector of Shannon diversity values by sample.\n",
      "                                                                    [required]\n",
      "  --o-evenness-vector ARTIFACT SampleData[AlphaDiversity]\n",
      "                          Vector of Pielou's evenness values by sample.\n",
      "                                                                    [required]\n",
      "  --o-unweighted-unifrac-distance-matrix ARTIFACT\n",
      "    DistanceMatrix        Matrix of unweighted UniFrac distances between\n",
      "                          pairs of samples.                         [required]\n",
      "  --o-weighted-unifrac-distance-matrix ARTIFACT\n",
      "    DistanceMatrix        Matrix of weighted UniFrac distances between pairs\n",
      "                          of samples.                               [required]\n",
      "  --o-jaccard-distance-matrix ARTIFACT\n",
      "    DistanceMatrix        Matrix of Jaccard distances between pairs of\n",
      "                          samples.                                  [required]\n",
      "  --o-bray-curtis-distance-matrix ARTIFACT\n",
      "    DistanceMatrix        Matrix of Bray-Curtis distances between pairs of\n",
      "                          samples.                                  [required]\n",
      "  --o-unweighted-unifrac-pcoa-results ARTIFACT\n",
      "    PCoAResults           PCoA matrix computed from unweighted UniFrac\n",
      "                          distances between samples.                [required]\n",
      "  --o-weighted-unifrac-pcoa-results ARTIFACT\n",
      "    PCoAResults           PCoA matrix computed from weighted UniFrac\n",
      "                          distances between samples.                [required]\n",
      "  --o-jaccard-pcoa-results ARTIFACT\n",
      "    PCoAResults           PCoA matrix computed from Jaccard distances between\n",
      "                          samples.                                  [required]\n",
      "  --o-bray-curtis-pcoa-results ARTIFACT\n",
      "    PCoAResults           PCoA matrix computed from Bray-Curtis distances\n",
      "                          between samples.                          [required]\n",
      "  --o-unweighted-unifrac-emperor VISUALIZATION\n",
      "                          Emperor plot of the PCoA matrix computed from\n",
      "                          unweighted UniFrac.                       [required]\n",
      "  --o-weighted-unifrac-emperor VISUALIZATION\n",
      "                          Emperor plot of the PCoA matrix computed from\n",
      "                          weighted UniFrac.                         [required]\n",
      "  --o-jaccard-emperor VISUALIZATION\n",
      "                          Emperor plot of the PCoA matrix computed from\n",
      "                          Jaccard.                                  [required]\n",
      "  --o-bray-curtis-emperor VISUALIZATION\n",
      "                          Emperor plot of the PCoA matrix computed from\n",
      "                          Bray-Curtis.                              [required]\n",
      "Miscellaneous:\n",
      "  --output-dir PATH       Output unspecified results to a directory\n",
      "  --verbose / --quiet     Display verbose output to stdout and/or stderr\n",
      "                          during execution of this action. Or silence output\n",
      "                          if execution is successful (silence is golden).\n",
      "  --example-data PATH     Write example data and exit.\n",
      "  --citations             Show citations and exit.\n",
      "  --help                  Show this message and exit.\n",
      "\n",
      "                  There were some problems with the command:                  \n",
      " (1/18) Invalid value for '--output-dir': 'core-metrics-results' already\n",
      "  exists, will not overwrite.\n",
      " (2/18) Missing option '--o-rarefied-table'.  (\"--output-dir\" may also be\n",
      "  used)\n",
      " (3/18) Missing option '--o-faith-pd-vector'.  (\"--output-dir\" may also be\n",
      "  used)\n",
      " (4/18) Missing option '--o-observed-features-vector'.  (\"--output-dir\" may\n",
      "  also be used)\n",
      " (5/18) Missing option '--o-shannon-vector'.  (\"--output-dir\" may also be\n",
      "  used)\n",
      " (6/18) Missing option '--o-evenness-vector'.  (\"--output-dir\" may also be\n",
      "  used)\n",
      " (7/18) Missing option '--o-unweighted-unifrac-distance-matrix'.  (\"--output-\n",
      "  dir\" may also be used)\n",
      " (8/18) Missing option '--o-weighted-unifrac-distance-matrix'.  (\"--output-\n",
      "  dir\" may also be used)\n",
      " (9/18) Missing option '--o-jaccard-distance-matrix'.  (\"--output-dir\" may\n",
      "  also be used)\n",
      " (10/18) Missing option '--o-bray-curtis-distance-matrix'.  (\"--output-dir\"\n",
      "  may also be used)\n",
      " (11/18) Missing option '--o-unweighted-unifrac-pcoa-results'.  (\"--output-\n",
      "  dir\" may also be used)\n",
      " (12/18) Missing option '--o-weighted-unifrac-pcoa-results'.  (\"--output-dir\"\n",
      "  may also be used)\n",
      " (13/18) Missing option '--o-jaccard-pcoa-results'.  (\"--output-dir\" may also\n",
      "  be used)\n",
      " (14/18) Missing option '--o-bray-curtis-pcoa-results'.  (\"--output-dir\" may\n",
      "  also be used)\n",
      " (15/18) Missing option '--o-unweighted-unifrac-emperor'.  (\"--output-dir\" may\n",
      "  also be used)\n",
      " (16/18) Missing option '--o-weighted-unifrac-emperor'.  (\"--output-dir\" may\n",
      "  also be used)\n",
      " (17/18) Missing option '--o-jaccard-emperor'.  (\"--output-dir\" may also be\n",
      "  used)\n",
      " (18/18) Missing option '--o-bray-curtis-emperor'.  (\"--output-dir\" may also\n",
      "  be used)\n"
     ]
    },
    {
     "ename": "CalledProcessError",
     "evalue": "Command 'b'qiime diversity core-metrics-phylogenetic \\\\\\n  --i-phylogeny rooted-tree.qza \\\\\\n  --i-table table.qza \\\\\\n  --p-sampling-depth 1150 \\\\\\n  --m-metadata-file sample-metadata.tsv \\\\\\n  --output-dir core-metrics-results\\n'' returned non-zero exit status 1.",
     "output_type": "error",
     "traceback": [
      "\u001b[0;31m---------------------------------------------------------------------------\u001b[0m",
      "\u001b[0;31mCalledProcessError\u001b[0m                        Traceback (most recent call last)",
      "Input \u001b[0;32mIn [2]\u001b[0m, in \u001b[0;36m<module>\u001b[0;34m\u001b[0m\n\u001b[0;32m----> 1\u001b[0m \u001b[43mget_ipython\u001b[49m\u001b[43m(\u001b[49m\u001b[43m)\u001b[49m\u001b[38;5;241;43m.\u001b[39;49m\u001b[43mrun_cell_magic\u001b[49m\u001b[43m(\u001b[49m\u001b[38;5;124;43m'\u001b[39;49m\u001b[38;5;124;43mbash\u001b[39;49m\u001b[38;5;124;43m'\u001b[39;49m\u001b[43m,\u001b[49m\u001b[43m \u001b[49m\u001b[38;5;124;43m'\u001b[39;49m\u001b[38;5;124;43m'\u001b[39;49m\u001b[43m,\u001b[49m\u001b[43m \u001b[49m\u001b[38;5;124;43m'\u001b[39;49m\u001b[38;5;124;43mqiime diversity core-metrics-phylogenetic \u001b[39;49m\u001b[38;5;130;43;01m\\\\\u001b[39;49;00m\u001b[38;5;130;43;01m\\n\u001b[39;49;00m\u001b[38;5;124;43m  --i-phylogeny rooted-tree.qza \u001b[39;49m\u001b[38;5;130;43;01m\\\\\u001b[39;49;00m\u001b[38;5;130;43;01m\\n\u001b[39;49;00m\u001b[38;5;124;43m  --i-table table.qza \u001b[39;49m\u001b[38;5;130;43;01m\\\\\u001b[39;49;00m\u001b[38;5;130;43;01m\\n\u001b[39;49;00m\u001b[38;5;124;43m  --p-sampling-depth 1150 \u001b[39;49m\u001b[38;5;130;43;01m\\\\\u001b[39;49;00m\u001b[38;5;130;43;01m\\n\u001b[39;49;00m\u001b[38;5;124;43m  --m-metadata-file sample-metadata.tsv \u001b[39;49m\u001b[38;5;130;43;01m\\\\\u001b[39;49;00m\u001b[38;5;130;43;01m\\n\u001b[39;49;00m\u001b[38;5;124;43m  --output-dir core-metrics-results\u001b[39;49m\u001b[38;5;130;43;01m\\n\u001b[39;49;00m\u001b[38;5;124;43m'\u001b[39;49m\u001b[43m)\u001b[49m\n",
      "File \u001b[0;32m~/miniconda3/envs/qiime2-2022.2/lib/python3.8/site-packages/IPython/core/interactiveshell.py:2257\u001b[0m, in \u001b[0;36mInteractiveShell.run_cell_magic\u001b[0;34m(self, magic_name, line, cell)\u001b[0m\n\u001b[1;32m   2255\u001b[0m \u001b[38;5;28;01mwith\u001b[39;00m \u001b[38;5;28mself\u001b[39m\u001b[38;5;241m.\u001b[39mbuiltin_trap:\n\u001b[1;32m   2256\u001b[0m     args \u001b[38;5;241m=\u001b[39m (magic_arg_s, cell)\n\u001b[0;32m-> 2257\u001b[0m     result \u001b[38;5;241m=\u001b[39m \u001b[43mfn\u001b[49m\u001b[43m(\u001b[49m\u001b[38;5;241;43m*\u001b[39;49m\u001b[43margs\u001b[49m\u001b[43m,\u001b[49m\u001b[43m \u001b[49m\u001b[38;5;241;43m*\u001b[39;49m\u001b[38;5;241;43m*\u001b[39;49m\u001b[43mkwargs\u001b[49m\u001b[43m)\u001b[49m\n\u001b[1;32m   2258\u001b[0m \u001b[38;5;28;01mreturn\u001b[39;00m result\n",
      "File \u001b[0;32m~/miniconda3/envs/qiime2-2022.2/lib/python3.8/site-packages/IPython/core/magics/script.py:153\u001b[0m, in \u001b[0;36mScriptMagics._make_script_magic.<locals>.named_script_magic\u001b[0;34m(line, cell)\u001b[0m\n\u001b[1;32m    151\u001b[0m \u001b[38;5;28;01melse\u001b[39;00m:\n\u001b[1;32m    152\u001b[0m     line \u001b[38;5;241m=\u001b[39m script\n\u001b[0;32m--> 153\u001b[0m \u001b[38;5;28;01mreturn\u001b[39;00m \u001b[38;5;28;43mself\u001b[39;49m\u001b[38;5;241;43m.\u001b[39;49m\u001b[43mshebang\u001b[49m\u001b[43m(\u001b[49m\u001b[43mline\u001b[49m\u001b[43m,\u001b[49m\u001b[43m \u001b[49m\u001b[43mcell\u001b[49m\u001b[43m)\u001b[49m\n",
      "File \u001b[0;32m~/miniconda3/envs/qiime2-2022.2/lib/python3.8/site-packages/IPython/core/magics/script.py:305\u001b[0m, in \u001b[0;36mScriptMagics.shebang\u001b[0;34m(self, line, cell)\u001b[0m\n\u001b[1;32m    300\u001b[0m \u001b[38;5;28;01mif\u001b[39;00m args\u001b[38;5;241m.\u001b[39mraise_error \u001b[38;5;129;01mand\u001b[39;00m p\u001b[38;5;241m.\u001b[39mreturncode \u001b[38;5;241m!=\u001b[39m \u001b[38;5;241m0\u001b[39m:\n\u001b[1;32m    301\u001b[0m     \u001b[38;5;66;03m# If we get here and p.returncode is still None, we must have\u001b[39;00m\n\u001b[1;32m    302\u001b[0m     \u001b[38;5;66;03m# killed it but not yet seen its return code. We don't wait for it,\u001b[39;00m\n\u001b[1;32m    303\u001b[0m     \u001b[38;5;66;03m# in case it's stuck in uninterruptible sleep. -9 = SIGKILL\u001b[39;00m\n\u001b[1;32m    304\u001b[0m     rc \u001b[38;5;241m=\u001b[39m p\u001b[38;5;241m.\u001b[39mreturncode \u001b[38;5;129;01mor\u001b[39;00m \u001b[38;5;241m-\u001b[39m\u001b[38;5;241m9\u001b[39m\n\u001b[0;32m--> 305\u001b[0m     \u001b[38;5;28;01mraise\u001b[39;00m CalledProcessError(rc, cell)\n",
      "\u001b[0;31mCalledProcessError\u001b[0m: Command 'b'qiime diversity core-metrics-phylogenetic \\\\\\n  --i-phylogeny rooted-tree.qza \\\\\\n  --i-table table.qza \\\\\\n  --p-sampling-depth 1150 \\\\\\n  --m-metadata-file sample-metadata.tsv \\\\\\n  --output-dir core-metrics-results\\n'' returned non-zero exit status 1."
     ]
    }
   ],
   "source": [
    "%%bash\n",
    "qiime diversity core-metrics-phylogenetic \\\n",
    "  --i-phylogeny rooted-tree.qza \\\n",
    "  --i-table table.qza \\\n",
    "  --p-sampling-depth 1150 \\\n",
    "  --m-metadata-file sample-metadata.tsv \\\n",
    "  --output-dir core-metrics-results"
   ]
  },
  {
   "cell_type": "markdown",
   "id": "6eefb72d",
   "metadata": {},
   "source": [
    "We can now begin to explore the microbial composition of the samples related to the sample metadata. Let’s attempt to answer some questions about the personal human microbiome. Do samples differ in richness, evenness or composition by subject-id (for each individual separately)?\n",
    "\n",
    "We’ll first test for associations between categorical metadata columns and alpha diversity data. We’ll do that here for the Faith Phylogenetic Diversity (a measure of community richness, which is calculated by adding the branches of the rooted tree for the sample) and evenness metrics. The <a href=\"https://www.marinespecies.org/introduced/wiki/Measurements_of_biodiversity\">Pielou</a> evenness index (J′) is 1, if all species are represented in equal numbers in the sample. If one species strongly dominates J′ is close to zero. "
   ]
  },
  {
   "cell_type": "code",
   "execution_count": 3,
   "id": "282d72a5",
   "metadata": {},
   "outputs": [
    {
     "name": "stdout",
     "output_type": "stream",
     "text": [
      "Saved Visualization to: core-metrics-results/faith-pd-group-significance.qzv\n",
      "Saved Visualization to: core-metrics-results/evenness-group-significance.qzv\n"
     ]
    }
   ],
   "source": [
    "%%bash\n",
    "qiime diversity alpha-group-significance \\\n",
    "  --i-alpha-diversity core-metrics-results/faith_pd_vector.qza \\\n",
    "  --m-metadata-file sample-metadata.tsv \\\n",
    "  --o-visualization core-metrics-results/faith-pd-group-significance.qzv\n",
    "\n",
    "qiime diversity alpha-group-significance \\\n",
    "  --i-alpha-diversity core-metrics-results/evenness_vector.qza \\\n",
    "  --m-metadata-file sample-metadata.tsv \\\n",
    "  --o-visualization core-metrics-results/evenness-group-significance.qzv"
   ]
  },
  {
   "cell_type": "markdown",
   "id": "0b146424",
   "metadata": {},
   "source": [
    "Are there any categorical sample metadata columns that are strongly associated with the differences in microbial community richness/evenness? Are these differences statistically significant?\n",
    "\n",
    "Do the Faith Phylogenetic Diversity and evenness change in individuals between baseline and the end of the study? There are other questions concerning longitudinal measurements, but let’s answer this first.\n",
    "\n",
    "Pairwise difference tests determine whether a specific metric changed significantly between pairs of paired samples (e.g., pre- and post-treatment). We will test whether the two alpha diversity metrics changed significantly between two different time points according to treatment-group. Filter the donor group from the metadata, because it doesn’t have time data."
   ]
  },
  {
   "cell_type": "code",
   "execution_count": 5,
   "id": "d9722ad5",
   "metadata": {},
   "outputs": [
    {
     "name": "stdout",
     "output_type": "stream",
     "text": [
      "Saved Visualization to: pairwise-differences.qzv\n",
      "Saved Visualization to: pairwise-differences_e.qzv\n"
     ]
    }
   ],
   "source": [
    "%%bash\n",
    "grep -v 'donor' sample-metadata.tsv > filtered-sample-metadata.tsv\n",
    "qiime longitudinal pairwise-differences \\\n",
    "  --m-metadata-file filtered-sample-metadata.tsv \\\n",
    "  --m-metadata-file core-metrics-results/faith_pd_vector.qza \\\n",
    "  --p-metric faith_pd \\\n",
    "  --p-group-column treatment-group \\\n",
    "  --p-state-column week \\\n",
    "  --p-state-1 0 \\\n",
    "  --p-state-2 18 \\\n",
    "  --p-individual-id-column subject-id \\\n",
    "  --p-replicate-handling random \\\n",
    "  --o-visualization pairwise-differences.qzv\n",
    "  qiime longitudinal pairwise-differences \\\n",
    "  --m-metadata-file filtered-sample-metadata.tsv \\\n",
    "  --m-metadata-file core-metrics-results/evenness_vector.qza \\\n",
    "  --p-metric pielou_evenness \\\n",
    "  --p-group-column treatment-group \\\n",
    "  --p-state-column week \\\n",
    "  --p-state-1 0 \\\n",
    "  --p-state-2 18 \\\n",
    "  --p-individual-id-column subject-id \\\n",
    "  --p-replicate-handling random \\\n",
    "  --o-visualization pairwise-differences_e.qzv"
   ]
  },
  {
   "cell_type": "markdown",
   "id": "c50207fa",
   "metadata": {},
   "source": []
  }
 ],
 "metadata": {
  "kernelspec": {
   "display_name": "Python 3 (ipykernel)",
   "language": "python",
   "name": "python3"
  },
  "language_info": {
   "codemirror_mode": {
    "name": "ipython",
    "version": 3
   },
   "file_extension": ".py",
   "mimetype": "text/x-python",
   "name": "python",
   "nbconvert_exporter": "python",
   "pygments_lexer": "ipython3",
   "version": "3.8.12"
  }
 },
 "nbformat": 4,
 "nbformat_minor": 5
}
